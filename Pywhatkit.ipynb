{
 "cells": [
  {
   "cell_type": "code",
   "execution_count": 2,
   "id": "0420305b-e49e-4bc8-8e44-9b3c92130d74",
   "metadata": {},
   "outputs": [],
   "source": [
    "import pywhatkit as pyw"
   ]
  },
  {
   "cell_type": "code",
   "execution_count": 3,
   "id": "0bc5cc3a-a262-4365-8797-dd7556baf09a",
   "metadata": {},
   "outputs": [
    {
     "name": "stdout",
     "output_type": "stream",
     "text": [
      "In 39 Seconds WhatsApp will open and after 15 Seconds Message will be Delivered!\n"
     ]
    }
   ],
   "source": [
    "## pyw.sendwhatmsg('phonenumber','message',Hours,minutes)\n",
    "pyw.sendwhatmsg('+9187554*****','Hi bro',15,22)"
   ]
  },
  {
   "cell_type": "code",
   "execution_count": null,
   "id": "3cc1ae9f-915b-4c96-bd38-dfcadae3538b",
   "metadata": {},
   "outputs": [],
   "source": []
  }
 ],
 "metadata": {
  "kernelspec": {
   "display_name": "Python 3 (ipykernel)",
   "language": "python",
   "name": "python3"
  },
  "language_info": {
   "codemirror_mode": {
    "name": "ipython",
    "version": 3
   },
   "file_extension": ".py",
   "mimetype": "text/x-python",
   "name": "python",
   "nbconvert_exporter": "python",
   "pygments_lexer": "ipython3",
   "version": "3.12.3"
  }
 },
 "nbformat": 4,
 "nbformat_minor": 5
}
